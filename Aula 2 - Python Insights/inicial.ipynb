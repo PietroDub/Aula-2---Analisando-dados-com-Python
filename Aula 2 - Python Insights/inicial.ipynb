{
 "cells": [
  {
   "cell_type": "markdown",
   "metadata": {},
   "source": [
    "# Python Insights - Analisando Dados com Python\n",
    "\n",
    "### Case - Cancelamento de Clientes\n",
    "\n",
    "Você foi contratado por uma empresa com mais de 800 mil clientes para um projeto de Dados. Recentemente a empresa percebeu que da sua base total de clientes, a maioria são clientes inativos, ou seja, que já cancelaram o serviço.\n",
    "\n",
    "Precisando melhorar seus resultados ela quer conseguir entender os principais motivos desses cancelamentos e quais as ações mais eficientes para reduzir esse número.\n",
    "\n",
    "Base de dados e arquivos: https://drive.google.com/drive/folders/1uDesZePdkhiraJmiyeZ-w5tfc8XsNYFZ?usp=drive_link"
   ]
  },
  {
   "cell_type": "code",
   "execution_count": null,
   "metadata": {},
   "outputs": [
    {
     "name": "stdout",
     "output_type": "stream",
     "text": [
      "Requirement already satisfied: pandas in c:\\users\\pietr\\appdata\\local\\programs\\python\\python313\\lib\\site-packages (2.2.3)\n",
      "Collecting openpyxl\n",
      "  Downloading openpyxl-3.1.5-py2.py3-none-any.whl.metadata (2.5 kB)\n",
      "Requirement already satisfied: numpy in c:\\users\\pietr\\appdata\\local\\programs\\python\\python313\\lib\\site-packages (2.2.4)\n",
      "Collecting nbformat\n",
      "  Downloading nbformat-5.10.4-py3-none-any.whl.metadata (3.6 kB)\n",
      "Collecting plotly\n",
      "  Downloading plotly-6.0.1-py3-none-any.whl.metadata (6.7 kB)\n",
      "Requirement already satisfied: ipykernel in c:\\users\\pietr\\appdata\\roaming\\python\\python313\\site-packages (6.29.5)\n",
      "Requirement already satisfied: python-dateutil>=2.8.2 in c:\\users\\pietr\\appdata\\local\\programs\\python\\python313\\lib\\site-packages (from pandas) (2.9.0.post0)\n",
      "Requirement already satisfied: pytz>=2020.1 in c:\\users\\pietr\\appdata\\local\\programs\\python\\python313\\lib\\site-packages (from pandas) (2025.2)\n",
      "Requirement already satisfied: tzdata>=2022.7 in c:\\users\\pietr\\appdata\\local\\programs\\python\\python313\\lib\\site-packages (from pandas) (2025.2)\n",
      "Collecting et-xmlfile (from openpyxl)\n",
      "  Downloading et_xmlfile-2.0.0-py3-none-any.whl.metadata (2.7 kB)\n",
      "Collecting fastjsonschema>=2.15 (from nbformat)\n",
      "  Downloading fastjsonschema-2.21.1-py3-none-any.whl.metadata (2.2 kB)\n",
      "Collecting jsonschema>=2.6 (from nbformat)\n",
      "  Downloading jsonschema-4.23.0-py3-none-any.whl.metadata (7.9 kB)\n",
      "Requirement already satisfied: jupyter-core!=5.0.*,>=4.12 in c:\\users\\pietr\\appdata\\roaming\\python\\python313\\site-packages (from nbformat) (5.7.2)\n",
      "Requirement already satisfied: traitlets>=5.1 in c:\\users\\pietr\\appdata\\roaming\\python\\python313\\site-packages (from nbformat) (5.14.3)\n",
      "Collecting narwhals>=1.15.1 (from plotly)\n",
      "  Downloading narwhals-1.34.1-py3-none-any.whl.metadata (9.2 kB)\n",
      "Requirement already satisfied: packaging in c:\\users\\pietr\\appdata\\roaming\\python\\python313\\site-packages (from plotly) (24.2)\n",
      "Requirement already satisfied: comm>=0.1.1 in c:\\users\\pietr\\appdata\\roaming\\python\\python313\\site-packages (from ipykernel) (0.2.2)\n",
      "Requirement already satisfied: debugpy>=1.6.5 in c:\\users\\pietr\\appdata\\roaming\\python\\python313\\site-packages (from ipykernel) (1.8.14)\n",
      "Requirement already satisfied: ipython>=7.23.1 in c:\\users\\pietr\\appdata\\roaming\\python\\python313\\site-packages (from ipykernel) (9.1.0)\n",
      "Requirement already satisfied: jupyter-client>=6.1.12 in c:\\users\\pietr\\appdata\\roaming\\python\\python313\\site-packages (from ipykernel) (8.6.3)\n",
      "Requirement already satisfied: matplotlib-inline>=0.1 in c:\\users\\pietr\\appdata\\roaming\\python\\python313\\site-packages (from ipykernel) (0.1.7)\n",
      "Requirement already satisfied: nest-asyncio in c:\\users\\pietr\\appdata\\roaming\\python\\python313\\site-packages (from ipykernel) (1.6.0)\n",
      "Requirement already satisfied: psutil in c:\\users\\pietr\\appdata\\roaming\\python\\python313\\site-packages (from ipykernel) (7.0.0)\n",
      "Requirement already satisfied: pyzmq>=24 in c:\\users\\pietr\\appdata\\roaming\\python\\python313\\site-packages (from ipykernel) (26.4.0)\n",
      "Requirement already satisfied: tornado>=6.1 in c:\\users\\pietr\\appdata\\roaming\\python\\python313\\site-packages (from ipykernel) (6.4.2)\n",
      "Requirement already satisfied: colorama in c:\\users\\pietr\\appdata\\roaming\\python\\python313\\site-packages (from ipython>=7.23.1->ipykernel) (0.4.6)\n",
      "Requirement already satisfied: decorator in c:\\users\\pietr\\appdata\\roaming\\python\\python313\\site-packages (from ipython>=7.23.1->ipykernel) (5.2.1)\n",
      "Requirement already satisfied: ipython-pygments-lexers in c:\\users\\pietr\\appdata\\roaming\\python\\python313\\site-packages (from ipython>=7.23.1->ipykernel) (1.1.1)\n",
      "Requirement already satisfied: jedi>=0.16 in c:\\users\\pietr\\appdata\\roaming\\python\\python313\\site-packages (from ipython>=7.23.1->ipykernel) (0.19.2)\n",
      "Requirement already satisfied: prompt_toolkit<3.1.0,>=3.0.41 in c:\\users\\pietr\\appdata\\roaming\\python\\python313\\site-packages (from ipython>=7.23.1->ipykernel) (3.0.50)\n",
      "Requirement already satisfied: pygments>=2.4.0 in c:\\users\\pietr\\appdata\\roaming\\python\\python313\\site-packages (from ipython>=7.23.1->ipykernel) (2.19.1)\n",
      "Requirement already satisfied: stack_data in c:\\users\\pietr\\appdata\\roaming\\python\\python313\\site-packages (from ipython>=7.23.1->ipykernel) (0.6.3)\n",
      "Collecting attrs>=22.2.0 (from jsonschema>=2.6->nbformat)\n",
      "  Downloading attrs-25.3.0-py3-none-any.whl.metadata (10 kB)\n",
      "Collecting jsonschema-specifications>=2023.03.6 (from jsonschema>=2.6->nbformat)\n",
      "  Downloading jsonschema_specifications-2024.10.1-py3-none-any.whl.metadata (3.0 kB)\n",
      "Collecting referencing>=0.28.4 (from jsonschema>=2.6->nbformat)\n",
      "  Downloading referencing-0.36.2-py3-none-any.whl.metadata (2.8 kB)\n",
      "Collecting rpds-py>=0.7.1 (from jsonschema>=2.6->nbformat)\n",
      "  Downloading rpds_py-0.24.0-cp313-cp313-win_amd64.whl.metadata (4.2 kB)\n",
      "Requirement already satisfied: platformdirs>=2.5 in c:\\users\\pietr\\appdata\\roaming\\python\\python313\\site-packages (from jupyter-core!=5.0.*,>=4.12->nbformat) (4.3.7)\n",
      "Requirement already satisfied: pywin32>=300 in c:\\users\\pietr\\appdata\\roaming\\python\\python313\\site-packages (from jupyter-core!=5.0.*,>=4.12->nbformat) (310)\n",
      "Requirement already satisfied: six>=1.5 in c:\\users\\pietr\\appdata\\local\\programs\\python\\python313\\lib\\site-packages (from python-dateutil>=2.8.2->pandas) (1.17.0)\n",
      "Requirement already satisfied: parso<0.9.0,>=0.8.4 in c:\\users\\pietr\\appdata\\roaming\\python\\python313\\site-packages (from jedi>=0.16->ipython>=7.23.1->ipykernel) (0.8.4)\n",
      "Requirement already satisfied: wcwidth in c:\\users\\pietr\\appdata\\roaming\\python\\python313\\site-packages (from prompt_toolkit<3.1.0,>=3.0.41->ipython>=7.23.1->ipykernel) (0.2.13)\n",
      "Requirement already satisfied: executing>=1.2.0 in c:\\users\\pietr\\appdata\\roaming\\python\\python313\\site-packages (from stack_data->ipython>=7.23.1->ipykernel) (2.2.0)\n",
      "Requirement already satisfied: asttokens>=2.1.0 in c:\\users\\pietr\\appdata\\roaming\\python\\python313\\site-packages (from stack_data->ipython>=7.23.1->ipykernel) (3.0.0)\n",
      "Requirement already satisfied: pure-eval in c:\\users\\pietr\\appdata\\roaming\\python\\python313\\site-packages (from stack_data->ipython>=7.23.1->ipykernel) (0.2.3)\n",
      "Downloading openpyxl-3.1.5-py2.py3-none-any.whl (250 kB)\n",
      "Downloading nbformat-5.10.4-py3-none-any.whl (78 kB)\n",
      "Downloading plotly-6.0.1-py3-none-any.whl (14.8 MB)\n",
      "   ---------------------------------------- 0.0/14.8 MB ? eta -:--:--\n",
      "   - -------------------------------------- 0.5/14.8 MB 7.8 MB/s eta 0:00:02\n",
      "   ------ --------------------------------- 2.4/14.8 MB 7.0 MB/s eta 0:00:02\n",
      "   ----------- ---------------------------- 4.2/14.8 MB 7.2 MB/s eta 0:00:02\n",
      "   --------------- ------------------------ 5.8/14.8 MB 7.3 MB/s eta 0:00:02\n",
      "   ------------------- -------------------- 7.3/14.8 MB 7.3 MB/s eta 0:00:02\n",
      "   ------------------------ --------------- 8.9/14.8 MB 7.4 MB/s eta 0:00:01\n",
      "   ---------------------------- ----------- 10.5/14.8 MB 7.5 MB/s eta 0:00:01\n",
      "   -------------------------------- ------- 12.1/14.8 MB 7.5 MB/s eta 0:00:01\n",
      "   ------------------------------------ --- 13.6/14.8 MB 7.6 MB/s eta 0:00:01\n",
      "   ---------------------------------------  14.7/14.8 MB 7.6 MB/s eta 0:00:01\n",
      "   ---------------------------------------  14.7/14.8 MB 7.6 MB/s eta 0:00:01\n",
      "   ---------------------------------------  14.7/14.8 MB 7.6 MB/s eta 0:00:01\n",
      "   ---------------------------------------  14.7/14.8 MB 7.6 MB/s eta 0:00:01\n",
      "   ---------------------------------------  14.7/14.8 MB 7.6 MB/s eta 0:00:01\n",
      "   ---------------------------------------- 14.8/14.8 MB 5.1 MB/s eta 0:00:00\n",
      "Downloading fastjsonschema-2.21.1-py3-none-any.whl (23 kB)\n",
      "Downloading jsonschema-4.23.0-py3-none-any.whl (88 kB)\n",
      "Downloading narwhals-1.34.1-py3-none-any.whl (325 kB)\n",
      "Downloading et_xmlfile-2.0.0-py3-none-any.whl (18 kB)\n",
      "Downloading attrs-25.3.0-py3-none-any.whl (63 kB)\n",
      "Downloading jsonschema_specifications-2024.10.1-py3-none-any.whl (18 kB)\n",
      "Downloading referencing-0.36.2-py3-none-any.whl (26 kB)\n",
      "Downloading rpds_py-0.24.0-cp313-cp313-win_amd64.whl (239 kB)\n",
      "Installing collected packages: fastjsonschema, rpds-py, narwhals, et-xmlfile, attrs, referencing, plotly, openpyxl, jsonschema-specifications, jsonschema, nbformat\n",
      "Successfully installed attrs-25.3.0 et-xmlfile-2.0.0 fastjsonschema-2.21.1 jsonschema-4.23.0 jsonschema-specifications-2024.10.1 narwhals-1.34.1 nbformat-5.10.4 openpyxl-3.1.5 plotly-6.0.1 referencing-0.36.2 rpds-py-0.24.0\n"
     ]
    }
   ],
   "source": [
    "#!pip install pandas openpyxl numpy nbformat plotly ipykernel \n",
    "\n",
    "#Formato de ipynb , usado em projetos de banco de dados \n",
    "#roda um cédula de cada vez, como mini códigos"
   ]
  },
  {
   "cell_type": "code",
   "execution_count": null,
   "metadata": {},
   "outputs": [],
   "source": [
    "#  passo a passo\n",
    "# Passo 1: importar a base de dados\n",
    "import pandas as pd #importar com apelido no caso pd\n",
    "\n",
    "tabela = pd.read_csv(\"cancelamentos_sample.csv\")\n",
    "\n",
    "# Passo 2: Visualizar a base de dados (entender informações + encontrar problemas)\n",
    "# print(tabela)\n",
    "\n",
    "#Passo 3\n",
    "\n",
    "#informações inuteis\n",
    "tabela = tabela.drop(columns=\"CustomerID\")\n",
    "display(tabela)"
   ]
  },
  {
   "cell_type": "code",
   "execution_count": null,
   "metadata": {},
   "outputs": [],
   "source": [
    "# Passo 3: Resolver os problemas da base de dados\n",
    "\n",
    "#informações no formato errado\n",
    "#iformações vazias\n",
    "\n",
    "display(tabela.info())\n",
    "tabela = tabela.dropna() #joga fora informações vazias\n",
    "display(tabela.info())\n",
    "\n",
    "# int -> número inteiro\n",
    "# float -> número com vígula\n",
    "# object -> texto"
   ]
  },
  {
   "cell_type": "code",
   "execution_count": null,
   "metadata": {},
   "outputs": [],
   "source": [
    "# Passo 4: Análise Incial (quantos clientes cancelaram)\n",
    "# contar na coluna cancelou os valores\n",
    "display(tabela[\"cancelou\"].value_counts())\n",
    "#agora em percentual\n",
    "display(tabela[\"cancelou\"].value_counts(normalize=True))\n",
    "#normalize é calcular a proporção\n",
    "\n",
    "#display(tabela[\"cancelou\"].value_counts(normalize=True).map(\"{:.1%}\".format))\n",
    "#formata para porcentagem"
   ]
  },
  {
   "cell_type": "code",
   "execution_count": null,
   "metadata": {},
   "outputs": [],
   "source": [
    "# Passo 5: Análise a causa dos cancelamentos dos clientes\n",
    "\n",
    "#quero entender como cada coluna afeta o cancelamento do clinte\n",
    "# criando gráficos\n",
    "import plotly.express as px\n",
    "\n",
    "#para cada coluna na tabela, irá criar um gráfico o exibindo\n",
    "for coluna in tabela.columns:\n",
    "    #crie o grafico\n",
    "    grafico = px.histogram(tabela, x=coluna , color=\"cancelou\") #histograma é um tipo de gráfico que mostra oq vc qr localizar\n",
    "    #exibe o grafico\n",
    "    grafico.show()\n",
    "\n",
    "\n",
    "#formatação, guias , edição visual no gráfico em\n",
    "#poty.com/python/historiograms/"
   ]
  },
  {
   "cell_type": "code",
   "execution_count": null,
   "metadata": {},
   "outputs": [
    {
     "data": {
      "text/plain": [
       "cancelou\n",
       "0.0    0.817004\n",
       "1.0    0.182996\n",
       "Name: proportion, dtype: float64"
      ]
     },
     "metadata": {},
     "output_type": "display_data"
    }
   ],
   "source": [
    "#Quando os clientes ligam mais de 4 vezes pro callcenter, eles cancelaram \n",
    "    #Emitir um alerta, quando ligar mais de 3 vezes\n",
    "\n",
    "#Todos os clientes do contrato mensal cancelam\n",
    "    #por um desconto nos outros planos\n",
    "\n",
    "#Todos clientes que atrasam mais de 20 dias cancelam\n",
    "    # ligar um alerta pro time de cobrança , quando o cliente bater 10 dias de atraso\n",
    "\n",
    "#Se eu resolver esses 3 problemas, como fica a taxa de cancelamento?\n",
    "\n",
    "#callcenter - olhar minha base, excluindo o problema do call center\n",
    "condicao = tabela[\"ligacoes_callcenter\"] <= 4\n",
    "tabela = tabela[condicao]\n",
    "#o novo valor da minha tabela é o antigo valor passando uma condição\n",
    "\n",
    "#dias_ atraso - olhar minha base, excluindo os clientes q atrasaram 20 dias \n",
    "condicao1 = tabela[\"dias_atraso\"] <= 20\n",
    "tabela = tabela[condicao1]\n",
    "\n",
    "#duracao_contrato - olhar minha base, excluindo o contrtos mensais\n",
    "condicao2 = tabela[\"duracao_contrato\"] != \"Monthly\"\n",
    "tabela = tabela[condicao2]\n",
    "\n",
    "display(tabela[\"cancelou\"].value_counts(normalize=True))\n",
    "\n",
    "#Kagle, base de dados para pegar\n"
   ]
  }
 ],
 "metadata": {
  "kernelspec": {
   "display_name": "Python 3",
   "language": "python",
   "name": "python3"
  },
  "language_info": {
   "codemirror_mode": {
    "name": "ipython",
    "version": 3
   },
   "file_extension": ".py",
   "mimetype": "text/x-python",
   "name": "python",
   "nbconvert_exporter": "python",
   "pygments_lexer": "ipython3",
   "version": "3.13.3"
  },
  "orig_nbformat": 4
 },
 "nbformat": 4,
 "nbformat_minor": 2
}
